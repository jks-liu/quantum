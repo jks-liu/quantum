{
 "cells": [
  {
   "cell_type": "markdown",
   "metadata": {},
   "source": [
    "# 〇〇Q#（四）：多个量子比特\n",
    "\n",
    "[本文Github地址](https://github.com/jks-liu/quantum/blob/master/nb/004-multi-qubits.ipynb)。由于Github渲染Jupyter里的公式有些问题，建议下载下来查看，这样的话，下面的代码也可以直接运行。\n",
    "\n",
    "目录：[Github](https://github.com/jks-liu/quantum)，[知乎专栏](https://zhuanlan.zhihu.com/p/98372659)。\n",
    "\n",
    "这篇文章中，你会学到以下内容\n",
    "\n",
    "关于量子算法\n",
    "\n",
    "\n",
    "关于数学\n",
    "- 向量/矩阵的张量积（Tensor product）$A \\otimes B$\n",
    "\n",
    "关于Q#\n",
    "- 初始化多个量子比特\n",
    "- 用`open`导入函数库\n",
    "- 使用`DumpRegister`打印量子状态信息用于Debug"
   ]
  },
  {
   "cell_type": "markdown",
   "metadata": {},
   "source": [
    "# 张量积（Tensor product）\n",
    "我们大多了解向量的乘法，这里我们再介绍另一种乘法，张量积。\n",
    "\n",
    "定义$A$（$m \\times n$维）和$B$（$k \\times l$维）的张量积$A \\otimes B = \\begin{bmatrix} a_{1,1}B & ... \\\\ ... & a_{m,n}B \\end{bmatrix}$（展开$B$），是一个$(m*k) \\times (n*l)$维矩阵。看几个例子比较容易理解。\n",
    "\n",
    "$$\\begin{bmatrix} 1 \\\\ 2 \\end{bmatrix} \\otimes \\begin{bmatrix} 3 \\\\ 4 \\end{bmatrix} = \\begin{bmatrix} 1\\begin{bmatrix} 3 \\\\ 4 \\end{bmatrix} \\\\ 2\\begin{bmatrix} 3 \\\\ 4 \\end{bmatrix} \\end{bmatrix} = \\begin{bmatrix} 3 \\\\ 4 \\\\ 6 \\\\ 8 \\end{bmatrix}$$\n",
    "\n",
    "$$\\begin{bmatrix} 1 \\\\ 2 \\end{bmatrix} \\otimes \\begin{bmatrix} 3 & 4 \\end{bmatrix} = \\begin{bmatrix} 1\\begin{bmatrix} 3 & 4 \\end{bmatrix} \\\\ 2\\begin{bmatrix} 3 & 4 \\end{bmatrix} \\end{bmatrix} = \\begin{bmatrix} 3 & 4 \\\\ 6 & 8 \\end{bmatrix}$$\n",
    "\n",
    "\n",
    "$$\\begin{bmatrix} 1 & 2 \\end{bmatrix} \\otimes \\begin{bmatrix} 3 \\\\ 4 \\end{bmatrix} = \\begin{bmatrix} 1\\begin{bmatrix} 3 \\\\ 4 \\end{bmatrix} & 2\\begin{bmatrix} 3 \\\\ 4 \\end{bmatrix} \\end{bmatrix} = \\begin{bmatrix} 3 & 6 \\\\ 4 & 8 \\end{bmatrix}$$\n",
    "\n",
    "$$\\begin{bmatrix} 1 & 2 \\\\ 3 & 4 \\end{bmatrix} \\otimes \\begin{bmatrix} 5 & 6 \\\\ 7 & 8 \\end{bmatrix} = \\begin{bmatrix} 1\\begin{bmatrix} 5 & 6 \\\\ 7 & 8 \\end{bmatrix} & 2\\begin{bmatrix} 5 & 6 \\\\ 7 & 8 \\end{bmatrix} \\\\ 3\\begin{bmatrix} 5 & 6 \\\\ 7 & 8 \\end{bmatrix} & 4\\begin{bmatrix} 5 & 6 \\\\ 7 & 8 \\end{bmatrix} \\end{bmatrix}=...$$"
   ]
  },
  {
   "cell_type": "markdown",
   "metadata": {},
   "source": [
    "## Mixed product property\n",
    "矩阵的乘法和向量积经常出现在同一个公式中，下面这个性质是量子力学中最常用的性质之一：\n",
    "\n",
    "$$(A \\otimes B)(C \\otimes D) = (AC) \\otimes (BD)$$"
   ]
  },
  {
   "cell_type": "markdown",
   "metadata": {},
   "source": [
    "# 多量子比特\n",
    "有了上面的介绍，多量子比特的表示就很自然了。多量子比特就是单量子比特的张量积。比如两个量子比特的矢态分别是$\\psi = \\begin{bmatrix} 1 \\\\ 0 \\end{bmatrix}$和$\\frac{1}{\\sqrt{2}}\\begin{bmatrix} 1 \\\\ 1 \\end{bmatrix}$。那么这两个量子比特组成的系统的矢态为\n",
    "\n",
    "$$\\begin{bmatrix} 1*\\frac{1}{\\sqrt{2}}\\begin{bmatrix} 1 \\\\ 1 \\end{bmatrix} \\\\ 0*\\frac{1}{\\sqrt{2}}\\begin{bmatrix} 1 \\\\ 1 \\end{bmatrix} \\end{bmatrix} = \\begin{bmatrix} \\frac{1}{\\sqrt{2}} \\\\ \\frac{1}{\\sqrt{2}} \\\\ 0 \\\\ 0 \\end{bmatrix}$$"
   ]
  },
  {
   "cell_type": "code",
   "execution_count": 10,
   "metadata": {},
   "outputs": [
    {
     "data": {
      "application/json": "[\"two_qubits\"]",
      "text/html": [
       "<ul><li>two_qubits</li></ul>"
      ],
      "text/plain": [
       "two_qubits"
      ]
     },
     "execution_count": 10,
     "metadata": {},
     "output_type": "execute_result"
    }
   ],
   "source": [
    "open Microsoft.Quantum.Diagnostics;\n",
    "\n",
    "operation two_qubits(): Unit {\n",
    "    using (qs = Qubit[2]) {\n",
    "        H(qs[0]);\n",
    "        DumpRegister((), qs);\n",
    "        Reset(qs[0]);\n",
    "    }\n",
    "}"
   ]
  },
  {
   "cell_type": "code",
   "execution_count": 11,
   "metadata": {
    "scrolled": true
   },
   "outputs": [
    {
     "name": "stdout",
     "output_type": "stream",
     "text": [
      "# wave function for qubits with ids (least to most significant): 0;1\n",
      "∣0❭:\t 0.707107 +  0.000000 i\t == \t***********          [ 0.500000 ]     --- [  0.00000 rad ]\n",
      "∣1❭:\t 0.707107 +  0.000000 i\t == \t***********          [ 0.500000 ]     --- [  0.00000 rad ]\n",
      "∣2❭:\t 0.000000 +  0.000000 i\t == \t                     [ 0.000000 ]                   \n",
      "∣3❭:\t 0.000000 +  0.000000 i\t == \t                     [ 0.000000 ]                   \n"
     ]
    },
    {
     "data": {
      "application/json": "{\"@type\":\"tuple\"}",
      "text/plain": [
       "()"
      ]
     },
     "execution_count": 11,
     "metadata": {},
     "output_type": "execute_result"
    }
   ],
   "source": [
    "%simulate two_qubits"
   ]
  },
  {
   "cell_type": "markdown",
   "metadata": {},
   "source": [
    "## 字节序\n"
   ]
  },
  {
   "cell_type": "code",
   "execution_count": 18,
   "metadata": {},
   "outputs": [
    {
     "name": "stdout",
     "output_type": "stream",
     "text": [
      "D:/snippet_.qs(1,90): warning QS6003: The namespace is already open.\n"
     ]
    },
    {
     "data": {
      "application/json": "[\"two_qubits\"]",
      "text/html": [
       "<ul><li>two_qubits</li></ul>"
      ],
      "text/plain": [
       "two_qubits"
      ]
     },
     "execution_count": 18,
     "metadata": {},
     "output_type": "execute_result"
    }
   ],
   "source": [
    "open Microsoft.Quantum.Canon;\n",
    "open Microsoft.Quantum.Diagnostics;\n",
    "\n",
    "operation two_qubits(): Unit {\n",
    "    using (qs = Qubit[3]) {\n",
    "        X(qs[0]);\n",
    "        (ControlledOnInt(1, X))(qs[0..1], qs[2]);\n",
    "        DumpRegister((), [qs[2]]);\n",
    "        Reset(qs[0]);\n",
    "        Reset(qs[2]);\n",
    "    }\n",
    "}"
   ]
  },
  {
   "cell_type": "code",
   "execution_count": 19,
   "metadata": {},
   "outputs": [
    {
     "name": "stdout",
     "output_type": "stream",
     "text": [
      "# wave function for qubits with ids (least to most significant): 2\n",
      "∣0❭:\t 0.000000 +  0.000000 i\t == \t                     [ 0.000000 ]                   \n",
      "∣1❭:\t 1.000000 +  0.000000 i\t == \t******************** [ 1.000000 ]     --- [  0.00000 rad ]\n"
     ]
    },
    {
     "data": {
      "application/json": "{\"@type\":\"tuple\"}",
      "text/plain": [
       "()"
      ]
     },
     "execution_count": 19,
     "metadata": {},
     "output_type": "execute_result"
    }
   ],
   "source": [
    "%simulate two_qubits"
   ]
  }
 ],
 "metadata": {
  "kernelspec": {
   "display_name": "Q#",
   "language": "qsharp",
   "name": "iqsharp"
  },
  "language_info": {
   "file_extension": ".qs",
   "mimetype": "text/x-qsharp",
   "name": "qsharp",
   "version": "0.4"
  }
 },
 "nbformat": 4,
 "nbformat_minor": 2
}
